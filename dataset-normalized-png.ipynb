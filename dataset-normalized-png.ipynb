{
 "cells": [
  {
   "cell_type": "code",
   "execution_count": 1,
   "id": "cd0c0198",
   "metadata": {
    "execution": {
     "iopub.execute_input": "2023-12-22T09:39:38.643249Z",
     "iopub.status.busy": "2023-12-22T09:39:38.642600Z",
     "iopub.status.idle": "2023-12-22T09:39:39.380662Z",
     "shell.execute_reply": "2023-12-22T09:39:39.379333Z"
    },
    "papermill": {
     "duration": 0.74768,
     "end_time": "2023-12-22T09:39:39.383959",
     "exception": false,
     "start_time": "2023-12-22T09:39:38.636279",
     "status": "completed"
    },
    "tags": []
   },
   "outputs": [],
   "source": [
    "import os\n",
    "import pandas as pd\n",
    "import numpy as np\n",
    "import cv2\n",
    "from PIL import Image"
   ]
  },
  {
   "cell_type": "code",
   "execution_count": 2,
   "id": "dc412333",
   "metadata": {
    "execution": {
     "iopub.execute_input": "2023-12-22T09:39:39.393895Z",
     "iopub.status.busy": "2023-12-22T09:39:39.393318Z",
     "iopub.status.idle": "2023-12-22T09:39:39.399996Z",
     "shell.execute_reply": "2023-12-22T09:39:39.398668Z"
    },
    "id": "77636ad9",
    "papermill": {
     "duration": 0.014727,
     "end_time": "2023-12-22T09:39:39.402743",
     "exception": false,
     "start_time": "2023-12-22T09:39:39.388016",
     "status": "completed"
    },
    "tags": []
   },
   "outputs": [],
   "source": [
    "class CFG:\n",
    "    gt_df = \"/kaggle/input/sennet-hoa-gt-data/gt.csv\"\n",
    "    data_root = \"/kaggle/input\"\n",
    "#     train_groups = [\"kidney_1_dense\", 'kidney_1_voi', 'kidney_2', 'kidney_3_dense', 'kidney_3_sparse']\n",
    "    train_groups = [\"kidney_1_dense\", \"kidney_3_dense\"]\n",
    "    \n",
    "    low=10\n",
    "    high=99.8 \n",
    "    alpha=0.01"
   ]
  },
  {
   "cell_type": "code",
   "execution_count": 3,
   "id": "9e9a0834",
   "metadata": {
    "execution": {
     "iopub.execute_input": "2023-12-22T09:39:39.413003Z",
     "iopub.status.busy": "2023-12-22T09:39:39.412250Z",
     "iopub.status.idle": "2023-12-22T09:39:39.419391Z",
     "shell.execute_reply": "2023-12-22T09:39:39.418205Z"
    },
    "papermill": {
     "duration": 0.016093,
     "end_time": "2023-12-22T09:39:39.422582",
     "exception": false,
     "start_time": "2023-12-22T09:39:39.406489",
     "status": "completed"
    },
    "tags": []
   },
   "outputs": [],
   "source": [
    "def save_as_png(array, file_path):\n",
    "    # create dir tree if doesn't exist\n",
    "    file_dir = os.path.dirname(file_path)\n",
    "    if not os.path.exists(file_dir):\n",
    "        os.makedirs(file_dir)\n",
    "        \n",
    "    img = Image.fromarray(array)\n",
    "    img.save(file_path, format='PNG')"
   ]
  },
  {
   "cell_type": "code",
   "execution_count": 4,
   "id": "3c01faf4",
   "metadata": {
    "execution": {
     "iopub.execute_input": "2023-12-22T09:39:39.431560Z",
     "iopub.status.busy": "2023-12-22T09:39:39.431069Z",
     "iopub.status.idle": "2023-12-22T09:39:40.833146Z",
     "shell.execute_reply": "2023-12-22T09:39:40.831643Z"
    },
    "papermill": {
     "duration": 1.410091,
     "end_time": "2023-12-22T09:39:40.836365",
     "exception": false,
     "start_time": "2023-12-22T09:39:39.426274",
     "status": "completed"
    },
    "tags": []
   },
   "outputs": [],
   "source": [
    "gt_df = pd.read_csv(CFG.gt_df)\n",
    "gt_df[\"img_path\"] = gt_df[\"img_path\"].apply(lambda x: os.path.join(CFG.data_root, x))\n",
    "gt_df[\"msk_path\"] = gt_df[\"msk_path\"].apply(lambda x: os.path.join(CFG.data_root, x))"
   ]
  },
  {
   "cell_type": "code",
   "execution_count": 5,
   "id": "295e3dde",
   "metadata": {
    "execution": {
     "iopub.execute_input": "2023-12-22T09:39:40.845555Z",
     "iopub.status.busy": "2023-12-22T09:39:40.845121Z",
     "iopub.status.idle": "2023-12-22T09:53:49.450830Z",
     "shell.execute_reply": "2023-12-22T09:53:49.448892Z"
    },
    "papermill": {
     "duration": 848.614895,
     "end_time": "2023-12-22T09:53:49.454945",
     "exception": false,
     "start_time": "2023-12-22T09:39:40.840050",
     "status": "completed"
    },
    "tags": []
   },
   "outputs": [
    {
     "name": "stdout",
     "output_type": "stream",
     "text": [
      "doing kidney_1_dense\n",
      "loaded volume\n",
      "part one done\n",
      "part two done\n",
      "normalized, now saving\n",
      "done saving\n",
      "doing kidney_3_dense\n",
      "loaded volume\n",
      "part one done\n",
      "part two done\n",
      "normalized, now saving\n",
      "done saving\n"
     ]
    }
   ],
   "source": [
    "for group in CFG.train_groups:\n",
    "    print('doing', group)\n",
    "    df = gt_df.query(\"group in @group\").reset_index(drop=True)\n",
    "    img_paths = sorted(df[\"img_path\"].values.tolist())\n",
    "    msk_paths = sorted(df[\"msk_path\"].values.tolist())\n",
    "    \n",
    "    volume = np.stack([cv2.imread(f, cv2.IMREAD_UNCHANGED) for f in img_paths])\n",
    "    print('loaded volume')\n",
    "    \n",
    "    # Normalize the entire volume\n",
    "    xmin = np.percentile(volume, CFG.low)\n",
    "    xmax = np.percentile(volume, CFG.high)\n",
    "    volume = (volume - xmin) / (xmax - xmin)\n",
    "    print('part one done')\n",
    "\n",
    "    # Adjusting extremes\n",
    "    volume[volume > 1] = (volume[volume > 1] - 1) * CFG.alpha + 1\n",
    "    volume[volume < 0] = volume[volume < 0] * CFG.alpha\n",
    "    print('part two done')\n",
    "\n",
    "    # Scaling to 8-bit\n",
    "#     volume = np.clip(volume * 255, 0, 255).astype(np.uint8)\n",
    "    \n",
    "    print('normalized, now saving')\n",
    "    \n",
    "    # Save each slice of the volume\n",
    "    for i, img in enumerate(volume):\n",
    "        img = np.clip(img * 255, 0, 255).astype(np.uint8)        \n",
    "        png_path = img_paths[i].replace('/kaggle/input/blood-vessel-segmentation/train', '.').replace('.tif', '.png')\n",
    "        save_as_png(img, png_path)\n",
    "\n",
    "    del volume\n",
    "     \n",
    "    print('done saving')\n",
    "    \n",
    "    # save masks    \n",
    "    for label_path in msk_paths:\n",
    "        label = cv2.imread(label_path, cv2.IMREAD_GRAYSCALE)\n",
    "\n",
    "        png_path = label_path.replace('/kaggle/input/blood-vessel-segmentation/train', '.').replace('.tif', '.png')\n",
    "        save_as_png(label, png_path)"
   ]
  },
  {
   "cell_type": "code",
   "execution_count": 6,
   "id": "34482946",
   "metadata": {
    "execution": {
     "iopub.execute_input": "2023-12-22T09:53:49.468741Z",
     "iopub.status.busy": "2023-12-22T09:53:49.468250Z",
     "iopub.status.idle": "2023-12-22T09:53:49.529059Z",
     "shell.execute_reply": "2023-12-22T09:53:49.527955Z"
    },
    "papermill": {
     "duration": 0.071635,
     "end_time": "2023-12-22T09:53:49.531854",
     "exception": false,
     "start_time": "2023-12-22T09:53:49.460219",
     "status": "completed"
    },
    "tags": []
   },
   "outputs": [
    {
     "data": {
      "text/plain": [
       "({'format': 'PNG',\n",
       "  'mode': 'L',\n",
       "  'size': (912, 1303),\n",
       "  'dtype': dtype('uint8'),\n",
       "  'max_value': 255,\n",
       "  'min_value': 0},\n",
       " {'format': 'PNG',\n",
       "  'mode': 'L',\n",
       "  'size': (912, 1303),\n",
       "  'dtype': dtype('uint8'),\n",
       "  'unique_values': array([  0, 255], dtype=uint8)})"
      ]
     },
     "execution_count": 6,
     "metadata": {},
     "output_type": "execute_result"
    }
   ],
   "source": [
    "# sanity check\n",
    "\n",
    "image_path = '/kaggle/working/kidney_1_dense/images/0154.png'\n",
    "mask_path = '/kaggle/working/kidney_1_dense/labels/0154.png'\n",
    "\n",
    "image = Image.open(image_path)\n",
    "mask = Image.open(mask_path)\n",
    "\n",
    "image_array = np.array(image)\n",
    "mask_array = np.array(mask)\n",
    "\n",
    "image_info = {\n",
    "    'format': image.format,\n",
    "    'mode': image.mode,\n",
    "    'size': image.size,\n",
    "    'dtype': image_array.dtype,\n",
    "    'max_value': np.max(image_array),\n",
    "    'min_value': np.min(image_array)\n",
    "}\n",
    "\n",
    "mask_info = {\n",
    "    'format': mask.format,\n",
    "    'mode': mask.mode,\n",
    "    'size': mask.size,\n",
    "    'dtype': mask_array.dtype,\n",
    "    'unique_values': np.unique(mask_array)\n",
    "}\n",
    "\n",
    "image_info, mask_info"
   ]
  }
 ],
 "metadata": {
  "accelerator": "GPU",
  "colab": {
   "gpuType": "V100",
   "machine_shape": "hm",
   "provenance": [],
   "toc_visible": true
  },
  "kaggle": {
   "accelerator": "none",
   "dataSources": [
    {
     "databundleVersionId": 6962461,
     "sourceId": 61446,
     "sourceType": "competition"
    },
    {
     "datasetId": 3987147,
     "sourceId": 6942858,
     "sourceType": "datasetVersion"
    }
   ],
   "dockerImageVersionId": 30626,
   "isGpuEnabled": false,
   "isInternetEnabled": true,
   "language": "python",
   "sourceType": "notebook"
  },
  "kernelspec": {
   "display_name": "Python 3",
   "language": "python",
   "name": "python3"
  },
  "language_info": {
   "codemirror_mode": {
    "name": "ipython",
    "version": 3
   },
   "file_extension": ".py",
   "mimetype": "text/x-python",
   "name": "python",
   "nbconvert_exporter": "python",
   "pygments_lexer": "ipython3",
   "version": "3.10.12"
  },
  "papermill": {
   "default_parameters": {},
   "duration": 855.525929,
   "end_time": "2023-12-22T09:53:50.362789",
   "environment_variables": {},
   "exception": null,
   "input_path": "__notebook__.ipynb",
   "output_path": "__notebook__.ipynb",
   "parameters": {},
   "start_time": "2023-12-22T09:39:34.836860",
   "version": "2.4.0"
  }
 },
 "nbformat": 4,
 "nbformat_minor": 5
}
